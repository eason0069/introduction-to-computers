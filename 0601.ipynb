{
  "nbformat": 4,
  "nbformat_minor": 0,
  "metadata": {
    "colab": {
      "name": "0601.ipynb",
      "provenance": [],
      "authorship_tag": "ABX9TyNZhv1AvXku//sMn2bEzvGv",
      "include_colab_link": true
    },
    "kernelspec": {
      "name": "python3",
      "display_name": "Python 3"
    },
    "language_info": {
      "name": "python"
    }
  },
  "cells": [
    {
      "cell_type": "markdown",
      "metadata": {
        "id": "view-in-github",
        "colab_type": "text"
      },
      "source": [
        "<a href=\"https://colab.research.google.com/github/eason0069/introduction-to-computers/blob/main/0601.ipynb\" target=\"_parent\"><img src=\"https://colab.research.google.com/assets/colab-badge.svg\" alt=\"Open In Colab\"/></a>"
      ]
    },
    {
      "cell_type": "code",
      "execution_count": null,
      "metadata": {
        "id": "EosH7EoXdQON"
      },
      "outputs": [],
      "source": [
        "print('0601')"
      ]
    },
    {
      "cell_type": "code",
      "source": [
        "for i in range(2,10):\n",
        "  for j in range(1,10):\n",
        "      product=i*j\n",
        "      print('%d*%d=%2d'%(i,j,product),end=' ')\n",
        "      print()"
      ],
      "metadata": {
        "colab": {
          "base_uri": "https://localhost:8080/"
        },
        "id": "f6CepEPC2h_6",
        "outputId": "107e8813-e8c9-454b-cd4b-bb76173bb4aa"
      },
      "execution_count": 3,
      "outputs": [
        {
          "output_type": "stream",
          "name": "stdout",
          "text": [
            "2*1= 2 \n",
            "2*2= 4 \n",
            "2*3= 6 \n",
            "2*4= 8 \n",
            "2*5=10 \n",
            "2*6=12 \n",
            "2*7=14 \n",
            "2*8=16 \n",
            "2*9=18 \n",
            "3*1= 3 \n",
            "3*2= 6 \n",
            "3*3= 9 \n",
            "3*4=12 \n",
            "3*5=15 \n",
            "3*6=18 \n",
            "3*7=21 \n",
            "3*8=24 \n",
            "3*9=27 \n",
            "4*1= 4 \n",
            "4*2= 8 \n",
            "4*3=12 \n",
            "4*4=16 \n",
            "4*5=20 \n",
            "4*6=24 \n",
            "4*7=28 \n",
            "4*8=32 \n",
            "4*9=36 \n",
            "5*1= 5 \n",
            "5*2=10 \n",
            "5*3=15 \n",
            "5*4=20 \n",
            "5*5=25 \n",
            "5*6=30 \n",
            "5*7=35 \n",
            "5*8=40 \n",
            "5*9=45 \n",
            "6*1= 6 \n",
            "6*2=12 \n",
            "6*3=18 \n",
            "6*4=24 \n",
            "6*5=30 \n",
            "6*6=36 \n",
            "6*7=42 \n",
            "6*8=48 \n",
            "6*9=54 \n",
            "7*1= 7 \n",
            "7*2=14 \n",
            "7*3=21 \n",
            "7*4=28 \n",
            "7*5=35 \n",
            "7*6=42 \n",
            "7*7=49 \n",
            "7*8=56 \n",
            "7*9=63 \n",
            "8*1= 8 \n",
            "8*2=16 \n",
            "8*3=24 \n",
            "8*4=32 \n",
            "8*5=40 \n",
            "8*6=48 \n",
            "8*7=56 \n",
            "8*8=64 \n",
            "8*9=72 \n",
            "9*1= 9 \n",
            "9*2=18 \n",
            "9*3=27 \n",
            "9*4=36 \n",
            "9*5=45 \n",
            "9*6=54 \n",
            "9*7=63 \n",
            "9*8=72 \n",
            "9*9=81 \n"
          ]
        }
      ]
    },
    {
      "cell_type": "code",
      "source": [
        "a=int(input('請輸入a值'))\n",
        "b=int(input('請輸入b值'))\n",
        "\n",
        "\n",
        "maxno=a*b\n",
        "for i in range(1,maxno+1):\n",
        "     if (i%a==0 and i%b==0):\n",
        "       break\n",
        "print('%d和%d的最小公倍數=%d'%(a,b,i))     \n"
      ],
      "metadata": {
        "colab": {
          "base_uri": "https://localhost:8080/"
        },
        "id": "K4GuG8b73U8y",
        "outputId": "91e660b4-84d7-4e24-8d82-75050369c609"
      },
      "execution_count": 4,
      "outputs": [
        {
          "output_type": "stream",
          "name": "stdout",
          "text": [
            "請輸入a值5\n",
            "請輸入b值4\n",
            "5和4的最小公倍數=20\n"
          ]
        }
      ]
    },
    {
      "cell_type": "code",
      "source": [
        "n=int(input('請輸入正整數'))\n",
        "for i in range(1,n+1):\n",
        "   if i%5==0:\n",
        "     continue\n",
        "   print(i,end=' ') "
      ],
      "metadata": {
        "colab": {
          "base_uri": "https://localhost:8080/"
        },
        "id": "L0JP2HZU4nUt",
        "outputId": "33825bb6-dacb-46a3-c221-ecdf4bc1fd1f"
      },
      "execution_count": 6,
      "outputs": [
        {
          "output_type": "stream",
          "name": "stdout",
          "text": [
            "請輸入正整數25\n",
            "1 2 3 4 6 7 8 9 11 12 13 14 16 17 18 19 21 22 23 24 "
          ]
        }
      ]
    },
    {
      "cell_type": "code",
      "source": [
        "total=n=0\n",
        "while(n<10):\n",
        "  n+=1\n",
        "  total+=n\n",
        "print(total) "
      ],
      "metadata": {
        "colab": {
          "base_uri": "https://localhost:8080/"
        },
        "id": "6bSxuulX4MWL",
        "outputId": "49a4f75b-eb02-4fa6-b487-9a4a604ac8de"
      },
      "execution_count": 8,
      "outputs": [
        {
          "output_type": "stream",
          "name": "stdout",
          "text": [
            "55\n"
          ]
        }
      ]
    },
    {
      "cell_type": "code",
      "source": [
        "total=n=0\n",
        "while(n<=10):\n",
        "  total+=n\n",
        "  n+=1\n",
        "print(total)\n",
        "\n"
      ],
      "metadata": {
        "colab": {
          "base_uri": "https://localhost:8080/"
        },
        "id": "vwoBoWWg4reC",
        "outputId": "4472bdd0-3965-4e95-e1d3-24d6f07b24e8"
      },
      "execution_count": 9,
      "outputs": [
        {
          "output_type": "stream",
          "name": "stdout",
          "text": [
            "55\n"
          ]
        }
      ]
    },
    {
      "cell_type": "code",
      "source": [
        "total=i=1\n",
        "n=int(input('請輸入正整數請輸入N的值'))\n",
        "while(i<=n):\n",
        "    total*=i\n",
        "    i+=1\n",
        "print('%d!=%d'%(n,total))    "
      ],
      "metadata": {
        "colab": {
          "base_uri": "https://localhost:8080/"
        },
        "id": "bO9PSxbH7zPA",
        "outputId": "e32af092-8272-40ec-9ac3-88985c024f27"
      },
      "execution_count": 11,
      "outputs": [
        {
          "output_type": "stream",
          "name": "stdout",
          "text": [
            "請輸入正整數請輸入N的值100\n",
            "100!=93326215443944152681699238856266700490715968264381621468592963895217599993229915608941463976156518286253697920827223758251185210916864000000000000000000000000\n"
          ]
        }
      ]
    },
    {
      "cell_type": "code",
      "source": [
        "n=0\n",
        "m=0\n",
        "for i in range(0,51):\n",
        "  if i%2==0:\n",
        "     continue\n",
        "  n+=i\n",
        "print('0-50的奇數和結果是%d'%(n))\n",
        "for j in range(0,51):\n",
        "  if j%2!=0:\n",
        "    continue\n",
        "  m+=j\n",
        "print('0-50的偶數和結果是%d'%(m))         "
      ],
      "metadata": {
        "colab": {
          "base_uri": "https://localhost:8080/"
        },
        "id": "pjSJwax58xiM",
        "outputId": "8fee2846-0b34-4d53-a4ba-97b3eab2956e"
      },
      "execution_count": 17,
      "outputs": [
        {
          "output_type": "stream",
          "name": "stdout",
          "text": [
            "0-50的奇數和結果是625\n",
            "0-50的偶數和結果是650\n"
          ]
        }
      ]
    },
    {
      "cell_type": "code",
      "source": [
        "n=int(input('請輸入正整數:'))\n",
        "for i in range(0,n):\n",
        "   for j in range(0,n-i):\n",
        "     print('*',end='')\n",
        "   print('\\n',end='')\n",
        "n=int(input('請輸入正整數:'))\n",
        "for i in range(0,n):\n",
        "   for j in range(0,n-i):\n",
        "     print('*',end='')\n",
        "   print('\\n',end='')"
      ],
      "metadata": {
        "colab": {
          "base_uri": "https://localhost:8080/"
        },
        "id": "DD0fYCMmFkeE",
        "outputId": "031d8f41-898c-4d9f-bcdd-ad6b4c99d0dd"
      },
      "execution_count": 20,
      "outputs": [
        {
          "output_type": "stream",
          "name": "stdout",
          "text": [
            "請輸入正整數:7\n",
            "*******\n",
            "******\n",
            "*****\n",
            "****\n",
            "***\n",
            "**\n",
            "*\n",
            "請輸入正整數:5\n",
            "*****\n",
            "****\n",
            "***\n",
            "**\n",
            "*\n"
          ]
        }
      ]
    },
    {
      "cell_type": "code",
      "source": [
        "n=0\n",
        "for i in range(1,101):\n",
        "  if(i%3!=0 and i%7!=0):\n",
        "    continue\n",
        "  n+=i\n",
        "print('數值數值1-100中,所以是3和7的倍數的數之總和為=',n)    "
      ],
      "metadata": {
        "colab": {
          "base_uri": "https://localhost:8080/"
        },
        "id": "u9SRjdeoHlSs",
        "outputId": "0806d196-b4b6-4599-e514-68fda28eb82e"
      },
      "execution_count": 21,
      "outputs": [
        {
          "output_type": "stream",
          "name": "stdout",
          "text": [
            "數值數值1-100中,所以是3和7的倍數的數之總和為= 2208\n"
          ]
        }
      ]
    },
    {
      "cell_type": "code",
      "source": [
        "n=int(input('請輸入正整數:'))\n",
        "print(n,'的因數有',end='')\n",
        "for i in range(1,n+1):\n",
        "  if n%i==0:\n",
        "    print(i,end=' ')\n",
        "for i in range(2,n):\n",
        "  if (n%i)==0:\n",
        "    print('不是質數')\n",
        "    break\n",
        "  else:\n",
        "    print(n,'是質數')    \n"
      ],
      "metadata": {
        "colab": {
          "base_uri": "https://localhost:8080/"
        },
        "id": "RDsXkK1qJLaU",
        "outputId": "f7c7aca1-4372-40d3-96da-72d830956c19"
      },
      "execution_count": 23,
      "outputs": [
        {
          "output_type": "stream",
          "name": "stdout",
          "text": [
            "請輸入正整數:12\n",
            "12 的因數有1 2 3 4 6 12 不是質數\n"
          ]
        }
      ]
    },
    {
      "cell_type": "code",
      "source": [
        ""
      ],
      "metadata": {
        "id": "_mNnwi2YKu8C"
      },
      "execution_count": null,
      "outputs": []
    }
  ]
}